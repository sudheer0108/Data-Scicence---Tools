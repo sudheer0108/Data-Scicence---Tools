{
 "cells": [
  {
   "cell_type": "markdown",
   "metadata": {},
   "source": [
    "# Basics of Python Programming (Refresher)"
   ]
  },
  {
   "cell_type": "markdown",
   "metadata": {},
   "source": [
    "#### Compilation of explanations and examples from the following resources\n",
    "1. [www.python.org](https://www.python.org/)\n",
    "2. [https://github.com/jerry-git/learn-python3](https://github.com/jerry-git/learn-python3)\n",
    "3. [https://www.w3schools.com/](https://www.w3schools.com/)"
   ]
  },
  {
   "cell_type": "markdown",
   "metadata": {},
   "source": [
    "## Installation List\n",
    "1. Python\n",
    "2. Pip\n",
    "3. Jupyter (Markdown + Code)\n",
    "\n",
    "## Jupyter Basics\n",
    "* Jupyter has Code and Markdown cells. You use code cells to evaluate python code and Markdown for description, images, etc\n",
    "* When a cell is green, its in edit mode i.e. you can edit the content of the cell\n",
    "* When a cell is blue, its in command mode. When in command press 'H' for help\n",
    "* For code completion, use tab and shift+tab\n",
    "\n",
    "## Markdown Basics (All you need to know)\n",
    "* you can use '#' for headings. Example: # is heading 1 and ## is heading 2\n",
    "* you can use * for unordered list (like this one) and (1. 2. 3.) for ordered list\n",
    "* Tons of tutorials available online on how to use Jupyter (Ipython) notebook and Markdown (I like [this](https://www.markdowntutorial.com/) one)\n",
    "\n",
    "## Print\n",
    "The **print()** function prints the specified message to the screen, or other standard output device."
   ]
  },
  {
   "cell_type": "code",
   "execution_count": 1,
   "metadata": {},
   "outputs": [
    {
     "name": "stdout",
     "output_type": "stream",
     "text": [
      "1\n"
     ]
    }
   ],
   "source": [
    "print (1)"
   ]
  },
  {
   "cell_type": "code",
   "execution_count": 2,
   "metadata": {},
   "outputs": [
    {
     "data": {
      "text/plain": [
       "3"
      ]
     },
     "execution_count": 2,
     "metadata": {},
     "output_type": "execute_result"
    }
   ],
   "source": [
    "1+2"
   ]
  },
  {
   "cell_type": "code",
   "execution_count": 3,
   "metadata": {},
   "outputs": [
    {
     "name": "stdout",
     "output_type": "stream",
     "text": [
      "Welcome to lecture 1\n"
     ]
    }
   ],
   "source": [
    "print (\"Welcome to lecture 1\")"
   ]
  },
  {
   "cell_type": "code",
   "execution_count": 4,
   "metadata": {},
   "outputs": [
    {
     "name": "stdout",
     "output_type": "stream",
     "text": [
      "[1, 2, 3]\n"
     ]
    }
   ],
   "source": [
    "num_list = [1,2,3]\n",
    "print(num_list)"
   ]
  },
  {
   "cell_type": "markdown",
   "metadata": {},
   "source": [
    "## String\n",
    "We can create them by enclosing characters in quotes. Python treats single quotes the same as double quotes. Creating strings is as simple as assigning a value to a variable. remember its an object, so it has methods. (more on strings and objects later)"
   ]
  },
  {
   "cell_type": "code",
   "execution_count": 5,
   "metadata": {},
   "outputs": [
    {
     "data": {
      "text/plain": [
       "'Hello guys'"
      ]
     },
     "execution_count": 5,
     "metadata": {},
     "output_type": "execute_result"
    }
   ],
   "source": [
    "# Double quotes\n",
    "\"Hello guys\""
   ]
  },
  {
   "cell_type": "code",
   "execution_count": 6,
   "metadata": {},
   "outputs": [
    {
     "data": {
      "text/plain": [
       "'Tired already?'"
      ]
     },
     "execution_count": 6,
     "metadata": {},
     "output_type": "execute_result"
    }
   ],
   "source": [
    "# Single quotes\n",
    "'Tired already?'"
   ]
  },
  {
   "cell_type": "code",
   "execution_count": 7,
   "metadata": {},
   "outputs": [
    {
     "data": {
      "text/plain": [
       "str"
      ]
     },
     "execution_count": 7,
     "metadata": {},
     "output_type": "execute_result"
    }
   ],
   "source": [
    "# type the built-in function\n",
    "type(\"Hello guys\")"
   ]
  },
  {
   "cell_type": "code",
   "execution_count": 8,
   "metadata": {},
   "outputs": [
    {
     "data": {
      "text/plain": [
       "<method 'find' of 'str' objects>"
      ]
     },
     "execution_count": 8,
     "metadata": {},
     "output_type": "execute_result"
    }
   ],
   "source": [
    "#testing autocomplete and help\n",
    "str.find"
   ]
  },
  {
   "cell_type": "code",
   "execution_count": 9,
   "metadata": {},
   "outputs": [
    {
     "data": {
      "text/plain": [
       "'HELLO'"
      ]
     },
     "execution_count": 9,
     "metadata": {},
     "output_type": "execute_result"
    }
   ],
   "source": [
    "\"hello\".upper()"
   ]
  },
  {
   "cell_type": "markdown",
   "metadata": {},
   "source": [
    "### Formatting Strings\n",
    "Python’s str.format() method of the string class allows you to do variable substitutions and value formatting. This lets you concatenate elements together within a string through positional formatting."
   ]
  },
  {
   "cell_type": "code",
   "execution_count": null,
   "metadata": {},
   "outputs": [],
   "source": [
    "sri = '{} is hot and humid'.format('Sri City')\n",
    "print(sri)"
   ]
  },
  {
   "cell_type": "code",
   "execution_count": 13,
   "metadata": {},
   "outputs": [
    {
     "name": "stdout",
     "output_type": "stream",
     "text": [
      "is it Sri City or Sricity this?\n"
     ]
    }
   ],
   "source": [
    "sri = 'is it {} or {} this?'.format('Sri City', 'Sricity')\n",
    "print(sri)"
   ]
  },
  {
   "cell_type": "code",
   "execution_count": 11,
   "metadata": {},
   "outputs": [
    {
     "name": "stdout",
     "output_type": "stream",
     "text": [
      "My name is Balasubramanian Kandaswamy, I go by Subu.\n"
     ]
    }
   ],
   "source": [
    "print('My name is {} {}, I go by {}.'.format('Balasubramanian', 'Kandaswamy', 'Subu'))"
   ]
  },
  {
   "cell_type": "code",
   "execution_count": 15,
   "metadata": {},
   "outputs": [
    {
     "name": "stdout",
     "output_type": "stream",
     "text": [
      "There are much more you can do with format, you can learn them online.\n"
     ]
    }
   ],
   "source": [
    "print('There are {} you can do with {}, you can learn them {}.'.format('much more','format','online'))"
   ]
  },
  {
   "cell_type": "markdown",
   "metadata": {},
   "source": [
    "# Datatypes\n",
    "\n",
    "## The built-in type hierarchy\n",
    "\n",
    "### numbers.Number\n",
    "These are created by numeric literals and returned as results by arithmetic operators and arithmetic built-in functions. Numeric objects are immutable; once created their value never changes. Python numbers are of course strongly related to mathematical numbers, but subject to the limitations of numerical representation in computers.\n",
    "\n",
    "Python distinguishes between integers, floating point numbers, and complex numbers:\n",
    "\n",
    "#### numbers.Integral\n",
    "These represent elements from the mathematical set of integers (positive and negative).\n",
    "\n",
    "There are two types of integers:\n",
    "\n",
    "##### Integers (int)\n",
    "\n",
    "These represent numbers in an unlimited range, subject to available (virtual) memory only. "
   ]
  },
  {
   "cell_type": "code",
   "execution_count": 16,
   "metadata": {},
   "outputs": [
    {
     "name": "stdout",
     "output_type": "stream",
     "text": [
      "value: 6, type: <class 'int'>\n"
     ]
    }
   ],
   "source": [
    "my_int = 6\n",
    "print('value: {}, type: {}'.format(my_int, type(my_int)))"
   ]
  },
  {
   "cell_type": "markdown",
   "metadata": {},
   "source": [
    "##### Booleans (bool)\n",
    "These represent the truth values False and True. The two objects representing the values False and True are the only Boolean objects. The Boolean type is a subtype of the integer type, and Boolean values behave like the values 0 and 1, respectively, in almost all contexts, the exception being that when converted to a string, the strings \"False\" or \"True\" are returned, respectively."
   ]
  },
  {
   "cell_type": "code",
   "execution_count": 1,
   "metadata": {},
   "outputs": [
    {
     "ename": "NameError",
     "evalue": "name 'my_int' is not defined",
     "output_type": "error",
     "traceback": [
      "\u001b[1;31m---------------------------------------------------------------------------\u001b[0m",
      "\u001b[1;31mNameError\u001b[0m                                 Traceback (most recent call last)",
      "\u001b[1;32m<ipython-input-1-586a8648f77a>\u001b[0m in \u001b[0;36m<module>\u001b[1;34m\u001b[0m\n\u001b[0;32m      1\u001b[0m \u001b[1;31m# Remember that you should never do this This is only for demonstration\u001b[0m\u001b[1;33m\u001b[0m\u001b[1;33m\u001b[0m\u001b[1;33m\u001b[0m\u001b[0m\n\u001b[0;32m      2\u001b[0m \u001b[0mmy_bool\u001b[0m \u001b[1;33m=\u001b[0m \u001b[1;32mTrue\u001b[0m\u001b[1;33m\u001b[0m\u001b[1;33m\u001b[0m\u001b[0m\n\u001b[1;32m----> 3\u001b[1;33m \u001b[0mprint\u001b[0m\u001b[1;33m(\u001b[0m\u001b[0mmy_bool\u001b[0m \u001b[1;33m*\u001b[0m \u001b[0mmy_int\u001b[0m\u001b[1;33m)\u001b[0m\u001b[1;33m\u001b[0m\u001b[1;33m\u001b[0m\u001b[0m\n\u001b[0m",
      "\u001b[1;31mNameError\u001b[0m: name 'my_int' is not defined"
     ]
    }
   ],
   "source": [
    "# Remember that you should never do this This is only for demonstration\n",
    "my_bool = True\n",
    "print(my_bool * my_int)"
   ]
  },
  {
   "cell_type": "code",
   "execution_count": 27,
   "metadata": {},
   "outputs": [
    {
     "name": "stdout",
     "output_type": "stream",
     "text": [
      "[] is False\n",
      "[0] is True\n",
      "0.0 is False\n",
      "None is False\n",
      "True is True\n",
      "Easy string is True\n"
     ]
    }
   ],
   "source": [
    "test = []\n",
    "print(test,'is',bool(test))\n",
    "\n",
    "test = [0]\n",
    "print(test,'is',bool(test))\n",
    "\n",
    "test = 0.0\n",
    "print(test,'is',bool(test))\n",
    "\n",
    "test = None\n",
    "print(test,'is',bool(test))\n",
    "\n",
    "test = my_bool\n",
    "print(test,'is',bool(test))\n",
    "\n",
    "test = 'Easy string'\n",
    "print(test,'is',bool(test))"
   ]
  },
  {
   "cell_type": "code",
   "execution_count": 28,
   "metadata": {},
   "outputs": [
    {
     "name": "stdout",
     "output_type": "stream",
     "text": [
      "I Dont Exist!\n"
     ]
    }
   ],
   "source": [
    "# example\n",
    "t_list = []\n",
    "if t_list:\n",
    "    print(\"I Exist!\")\n",
    "else:\n",
    "    print(\"I Dont Exist!\")"
   ]
  },
  {
   "cell_type": "markdown",
   "metadata": {},
   "source": [
    "#### numbers.Real (float)\n",
    "These represent machine-level double precision floating point numbers. You are at the mercy of the underlying machine architecture (and C or Java implementation) for the accepted range and handling of overflow. Python does not support single-precision floating point numbers; the savings in processor and memory usage that are usually the reason for using these are dwarfed by the overhead of using objects in Python, so there is no reason to complicate the language with two kinds of floating point numbers."
   ]
  },
  {
   "cell_type": "code",
   "execution_count": 29,
   "metadata": {},
   "outputs": [
    {
     "name": "stdout",
     "output_type": "stream",
     "text": [
      "value: 6.0, type: <class 'float'>\n"
     ]
    }
   ],
   "source": [
    "my_float = float(my_int)\n",
    "print('value: {}, type: {}'.format(my_float, type(my_float)))"
   ]
  },
  {
   "cell_type": "code",
   "execution_count": 33,
   "metadata": {
    "scrolled": true
   },
   "outputs": [
    {
     "name": "stdout",
     "output_type": "stream",
     "text": [
      "1.0\n",
      "1.2\n"
     ]
    }
   ],
   "source": [
    "# Divide operation converts to float\n",
    "print(1 / 1)\n",
    "print(6 / 5)"
   ]
  },
  {
   "cell_type": "code",
   "execution_count": 36,
   "metadata": {},
   "outputs": [
    {
     "name": "stdout",
     "output_type": "stream",
     "text": [
      "1\n",
      "2\n",
      "8\n"
     ]
    }
   ],
   "source": [
    "# Floor, Modulo, Power\n",
    "print (7 // 5)\n",
    "print (7 % 5)\n",
    "print (2 &\n",
    "3)"
   ]
  },
  {
   "cell_type": "markdown",
   "metadata": {},
   "source": [
    "#### numbers.Complex (complex)\n",
    "we are skipping thos for now"
   ]
  },
  {
   "cell_type": "markdown",
   "metadata": {},
   "source": [
    "# Datatypes vs Datastructures\n",
    "The below is a very concise explanation (credit: [stack overflow](https://stackoverflow.com/questions/4630377/explain-the-difference-between-a-data-structure-and-a-data-type))\n",
    "\n",
    "A data structure is an abstract description of a way of organizing data to allow certain operations on it to be performed efficiently. For example, a binary tree is a data structure, as is a Fibonacci heap, AVL tree, or skiplist. Theoreticians describe data structures and prove their properties in order to show that certain algorithms or problems can be solved efficiently under certain assumptions.\n",
    "\n",
    "A data type is a (potentially infinite) class of concrete objects that all share some property. For example, \"integer\" is a data type containing all of the infinitely many integers, \"string\" is a data type containing all of the infinitely many strings, and \"32-bit integer\" is a data type containing all integers expressible in thirty-two bits. There is no requirement that a data type be a primitive in a language - for example, in C++, the type int is a primitive, as is this one:\n",
    "\n",
    "` struct MyStruct { \n",
    "   int x, y; \n",
    "   }` \n",
    "\n",
    "In this case, MyStruct is a data type representing all possible objects labeled MyStruct that have two ints in them labeled x and y.\n",
    "\n",
    "It is possible to have a data type representing all possible instances of a data structure. For example, you could encode a binary search tree with this data type:\n",
    "\n",
    "`struct BST { \n",
    "    int data; \n",
    "    BST* left, *right; \n",
    "    }`\n",
    "\n",
    "In short, a data structure is a mathematical object with some set of properties that can be realized in many different ways as data types. A data type is just a class of values that can be concretely constructed and represented.\n"
   ]
  },
  {
   "cell_type": "markdown",
   "metadata": {},
   "source": [
    "## Sequences\n",
    "\n",
    "These represent **finite ordered sets** indexed by non-negative numbers. The built-in function len() returns the number of items of a sequence. When the length of a sequence is n, the index set contains the numbers 0, 1, …, n-1. Item i of sequence a is selected by a[i].\n",
    "\n",
    "Sequences also support **slicing**: a[i:j] selects all items with index k such that i <= k < j. When used as an expression, a slice is a sequence of the same type. This implies that the index set is renumbered so that it starts at 0.\n",
    "\n",
    "Sequences are distinguished according to their mutability:\n",
    "\n",
    "### Immutable sequences\n",
    "An object of an immutable sequence type cannot change once it is created. (If the object contains references to other objects, these other objects may be mutable and may be changed; however, the collection of objects directly referenced by an immutable object cannot change.)\n",
    "\n",
    "The following types are immutable sequences:\n",
    "\n",
    "#### Strings\n",
    "A string is a sequence of values that represent Unicode chars (code point). Python doesn’t have a char type; instead, every code point in the string is represented as a string object with length 1. "
   ]
  },
  {
   "cell_type": "code",
   "execution_count": 43,
   "metadata": {},
   "outputs": [
    {
     "data": {
      "text/plain": [
       "35"
      ]
     },
     "execution_count": 43,
     "metadata": {},
     "output_type": "execute_result"
    }
   ],
   "source": [
    "my_string = \"Please do your assignments Please! \"\n",
    "len(my_string)\n"
   ]
  },
  {
   "cell_type": "code",
   "execution_count": 45,
   "metadata": {},
   "outputs": [
    {
     "data": {
      "text/plain": [
       "'!'"
      ]
     },
     "execution_count": 45,
     "metadata": {},
     "output_type": "execute_result"
    }
   ],
   "source": [
    "my_string.strip()[-1]"
   ]
  },
  {
   "cell_type": "code",
   "execution_count": 40,
   "metadata": {},
   "outputs": [
    {
     "data": {
      "text/plain": [
       "'e'"
      ]
     },
     "execution_count": 40,
     "metadata": {},
     "output_type": "execute_result"
    }
   ],
   "source": [
    "my_string[2]"
   ]
  },
  {
   "cell_type": "code",
   "execution_count": 41,
   "metadata": {},
   "outputs": [
    {
     "data": {
      "text/plain": [
       "'eas'"
      ]
     },
     "execution_count": 41,
     "metadata": {},
     "output_type": "execute_result"
    }
   ],
   "source": [
    "my_string[2:5]"
   ]
  },
  {
   "cell_type": "code",
   "execution_count": 46,
   "metadata": {},
   "outputs": [
    {
     "data": {
      "text/plain": [
       "'a'"
      ]
     },
     "execution_count": 46,
     "metadata": {},
     "output_type": "execute_result"
    }
   ],
   "source": [
    "my_string[2:5][1]"
   ]
  },
  {
   "cell_type": "code",
   "execution_count": 47,
   "metadata": {},
   "outputs": [
    {
     "data": {
      "text/plain": [
       "'PleAse do your Assignments PleAse! '"
      ]
     },
     "execution_count": 47,
     "metadata": {},
     "output_type": "execute_result"
    }
   ],
   "source": [
    "# Remember its immutable\n",
    "my_string.replace('a', 'A')"
   ]
  },
  {
   "cell_type": "code",
   "execution_count": 48,
   "metadata": {},
   "outputs": [
    {
     "name": "stdout",
     "output_type": "stream",
     "text": [
      "Please do your assignments Please! \n"
     ]
    }
   ],
   "source": [
    "print(my_string)"
   ]
  },
  {
   "cell_type": "code",
   "execution_count": 49,
   "metadata": {},
   "outputs": [
    {
     "name": "stdout",
     "output_type": "stream",
     "text": [
      "PleAse do your Assignments PleAse! \n"
     ]
    }
   ],
   "source": [
    "# to change it, you have to assign it back to the same variable\n",
    "my_string = my_string.replace('a', 'A')\n",
    "print(my_string)"
   ]
  },
  {
   "cell_type": "code",
   "execution_count": 6,
   "metadata": {},
   "outputs": [
    {
     "name": "stdout",
     "output_type": "stream",
     "text": [
      "sudheer\n",
      "SUDHEER\n"
     ]
    }
   ],
   "source": [
    "# same goes for all other string methods\n",
    "my_strng='sudheer'\n",
    "print(my_string.lower())\n",
    "print(my_string.upper())"
   ]
  },
  {
   "cell_type": "code",
   "execution_count": 50,
   "metadata": {},
   "outputs": [
    {
     "name": "stdout",
     "output_type": "stream",
     "text": [
      "please do your homeworks please!\n"
     ]
    }
   ],
   "source": [
    "#method chaining example\n",
    "print(my_string.strip().lower().replace('assignments', 'homeworks'))"
   ]
  },
  {
   "cell_type": "markdown",
   "metadata": {},
   "source": [
    "#### Tuples\n",
    "The items of a tuple are arbitrary Python objects. Tuples of two or more items are formed by comma-separated lists of expressions. A tuple of one item (a ‘singleton’) can be formed by affixing a comma to an expression (an expression by itself does not create a tuple, since parentheses must be usable for grouping of expressions). An empty tuple can be formed by an empty pair of parentheses."
   ]
  },
  {
   "cell_type": "code",
   "execution_count": 51,
   "metadata": {},
   "outputs": [],
   "source": [
    "k = (1,'two',3.0)"
   ]
  },
  {
   "cell_type": "code",
   "execution_count": 10,
   "metadata": {},
   "outputs": [
    {
     "name": "stdout",
     "output_type": "stream",
     "text": [
      "3\n",
      "two\n",
      "('two', 3.0)\n"
     ]
    }
   ],
   "source": [
    "k = (1,'two',3.0)\n",
    "print(len(k))\n",
    "print(k[1])\n",
    "print(k[1:3])"
   ]
  },
  {
   "cell_type": "code",
   "execution_count": 11,
   "metadata": {},
   "outputs": [],
   "source": [
    "# very useful when returning multiple values from a function\n",
    "(a,b,c) = k"
   ]
  },
  {
   "cell_type": "code",
   "execution_count": null,
   "metadata": {},
   "outputs": [],
   "source": [
    "b"
   ]
  },
  {
   "cell_type": "markdown",
   "metadata": {},
   "source": [
    "#### Bytes\n",
    "we are skipping this for now"
   ]
  },
  {
   "cell_type": "markdown",
   "metadata": {},
   "source": [
    "## Mutable sequences\n",
    "Mutable sequences can be changed after they are created. The subscription and slicing notations can be used as the target of assignment and del (delete) statements.\n",
    "\n",
    "There are currently two intrinsic mutable sequence types:\n",
    "\n",
    "### Lists\n",
    "The items of a list are arbitrary Python objects. Lists are formed by placing a comma-separated list of expressions in square brackets. (Note that there are no special cases needed to form lists of length 0 or 1.)"
   ]
  },
  {
   "cell_type": "code",
   "execution_count": 14,
   "metadata": {},
   "outputs": [
    {
     "name": "stdout",
     "output_type": "stream",
     "text": [
      "empty list: [], type: <class 'list'>\n",
      " am I True?:False\n"
     ]
    }
   ],
   "source": [
    "#Empty List\n",
    "my_empty_list = []\n",
    "print('empty list: {}, type: {}'.format(my_empty_list, type(my_empty_list)))\n",
    "print(' am I True?:{}'.format(bool(my_empty_list)))"
   ]
  },
  {
   "cell_type": "code",
   "execution_count": 15,
   "metadata": {},
   "outputs": [
    {
     "name": "stdout",
     "output_type": "stream",
     "text": [
      "lengths: 4 and 6\n"
     ]
    }
   ],
   "source": [
    "#Length\n",
    "list_of_ints = [1, 2, 6, 7]\n",
    "list_of_misc = [0.2, 5, 'Python', 'is', 'still fun', '!']\n",
    "print('lengths: {} and {}'.format(len(list_of_ints), len(list_of_misc)))"
   ]
  },
  {
   "cell_type": "code",
   "execution_count": 16,
   "metadata": {},
   "outputs": [
    {
     "name": "stdout",
     "output_type": "stream",
     "text": [
      "Python\n",
      "cool\n"
     ]
    }
   ],
   "source": [
    "#Accessing by index\n",
    "my_list = ['Python', 'is', 'still', 'cool']\n",
    "print(my_list[0])\n",
    "print(my_list[-1])"
   ]
  },
  {
   "cell_type": "code",
   "execution_count": 18,
   "metadata": {},
   "outputs": [
    {
     "name": "stdout",
     "output_type": "stream",
     "text": [
      "first coordinate: [12.0, 13.3]\n",
      "second element of first coordinate: 18.0\n"
     ]
    }
   ],
   "source": [
    "#Multi dimensional\n",
    "coordinates = [[12.0, 13.3], [0.6, 18.0], [88.0, 1.1]]  # two dimensional\n",
    "print('first coordinate: {}'.format(coordinates[0]))\n",
    "print('second element of first coordinate: {}'.format(coordinates[1][1]))"
   ]
  },
  {
   "cell_type": "code",
   "execution_count": 25,
   "metadata": {},
   "outputs": [
    {
     "name": "stdout",
     "output_type": "stream",
     "text": [
      "[99, 1, 2, 3, 4, 5]\n",
      "[1, 2, 3, 4, 5]\n"
     ]
    }
   ],
   "source": [
    "#Mutability\n",
    "my_list = [0, 1, 2, 3, 4, 5]\n",
    "my_list[0] = 99\n",
    "print(my_list)\n",
    "\n",
    "# remove first value\n",
    "del my_list[0]\n",
    "print(my_list)"
   ]
  },
  {
   "cell_type": "markdown",
   "metadata": {},
   "source": [
    "#### list.append()"
   ]
  },
  {
   "cell_type": "code",
   "execution_count": 28,
   "metadata": {},
   "outputs": [
    {
     "name": "stdout",
     "output_type": "stream",
     "text": [
      "[1, 'ham']\n"
     ]
    }
   ],
   "source": [
    "my_list = [1]\n",
    "my_list.append(\"ham\")\n",
    "print(my_list)"
   ]
  },
  {
   "cell_type": "markdown",
   "metadata": {},
   "source": [
    "#### list.remove()"
   ]
  },
  {
   "cell_type": "code",
   "execution_count": 32,
   "metadata": {},
   "outputs": [
    {
     "name": "stdout",
     "output_type": "stream",
     "text": [
      "['is', 'sometimes', 'fun']\n",
      "Java is not part of this story.\n",
      "['is', 'sometimes', 'fun']\n"
     ]
    }
   ],
   "source": [
    "my_list = ['Python', 'is', 'sometimes', 'fun']\n",
    "my_list.remove('Python')\n",
    "print(my_list)\n",
    "\n",
    "# If you are not sure that the value is in list, better to check first:\n",
    "if 'Python' in my_list:\n",
    "    my_list.remove('Python')\n",
    "else:\n",
    "    print('Java is not part of this story.')\n",
    "    \n",
    "print(my_list)"
   ]
  },
  {
   "cell_type": "markdown",
   "metadata": {},
   "source": [
    "#### list.sort()"
   ]
  },
  {
   "cell_type": "code",
   "execution_count": 34,
   "metadata": {
    "scrolled": true
   },
   "outputs": [
    {
     "name": "stdout",
     "output_type": "stream",
     "text": [
      "numbers: [1, 5, 6, 8, 10]\n",
      "numbers reversed: [1, 5, 6, 8, 10]\n",
      "words: ['a', 'is', 'list', 'of', 'this', 'words']\n"
     ]
    }
   ],
   "source": [
    "numbers = [8, 1, 6, 5, 10]\n",
    "numbers.sort()\n",
    "print('numbers: {}'.format(numbers))\n",
    "\n",
    "numbers.sort(reverse=False)\n",
    "print('numbers reversed: {}'.format(numbers))\n",
    "\n",
    "words = ['this', 'is', 'a', 'list', 'of', 'words']\n",
    "words.sort()\n",
    "print('words: {}'.format(words))"
   ]
  },
  {
   "cell_type": "markdown",
   "metadata": {},
   "source": [
    "#### list.sort() vs sorted()"
   ]
  },
  {
   "cell_type": "code",
   "execution_count": 38,
   "metadata": {
    "scrolled": true
   },
   "outputs": [
    {
     "name": "stdout",
     "output_type": "stream",
     "text": [
      "numbers: [1, 5, 6, 8, 10], sorted: [1, 5, 6, 8, 10]\n"
     ]
    }
   ],
   "source": [
    "numbers = [8, 1, 6, 5, 10]\n",
    "sorted_numbers = sorted(numbers)\n",
    "numbers.sort()\n",
    "print('numbers: {}, sorted: {}'.format(numbers, sorted_numbers))"
   ]
  },
  {
   "cell_type": "markdown",
   "metadata": {},
   "source": [
    "#### list.extend()"
   ]
  },
  {
   "cell_type": "code",
   "execution_count": 39,
   "metadata": {},
   "outputs": [
    {
     "name": "stdout",
     "output_type": "stream",
     "text": [
      "first: ['beef', 'ham', 'potatoes', 1, 3], second: ['potatoes', 1, 3]\n"
     ]
    }
   ],
   "source": [
    "first_list = ['beef', 'ham']\n",
    "second_list = ['potatoes',1 ,3]\n",
    "first_list.extend(second_list)\n",
    "print('first: {}, second: {}'.format(first_list, second_list))"
   ]
  },
  {
   "cell_type": "code",
   "execution_count": 40,
   "metadata": {},
   "outputs": [
    {
     "name": "stdout",
     "output_type": "stream",
     "text": [
      "first: [1, 2, 3, 4, 5]\n",
      "summed: [1, 2, 3, 4, 5, 4, 5]\n"
     ]
    }
   ],
   "source": [
    "first = [1, 2, 3]\n",
    "second = [4, 5]\n",
    "first += second  # same as: first = first + second\n",
    "print('first: {}'.format(first))\n",
    "\n",
    "# If you need a new list\n",
    "summed = first + second\n",
    "print('summed: {}'.format(summed))"
   ]
  },
  {
   "cell_type": "markdown",
   "metadata": {},
   "source": [
    "#### list.reverse()"
   ]
  },
  {
   "cell_type": "code",
   "execution_count": 41,
   "metadata": {
    "scrolled": true
   },
   "outputs": [
    {
     "name": "stdout",
     "output_type": "stream",
     "text": [
      "['ham', 'b', 'a']\n"
     ]
    }
   ],
   "source": [
    "my_list = ['a', 'b', 'ham']\n",
    "my_list.reverse()\n",
    "print(my_list)"
   ]
  },
  {
   "cell_type": "markdown",
   "metadata": {},
   "source": [
    "#### Stack using List\n",
    "The list methods make it very easy to use a list as a **stack**, where the last element added is the first element retrieved (“last-in, first-out”). To add an item to the top of the stack, use append(). To retrieve an item from the top of the stack, use pop() without an explicit index. For example:"
   ]
  },
  {
   "cell_type": "code",
   "execution_count": null,
   "metadata": {},
   "outputs": [],
   "source": [
    "stack = [3, 4, 5]"
   ]
  },
  {
   "cell_type": "code",
   "execution_count": 44,
   "metadata": {},
   "outputs": [
    {
     "name": "stdout",
     "output_type": "stream",
     "text": [
      "[3, 4, 5, 6]\n"
     ]
    }
   ],
   "source": [
    "stack = [3, 4, 5]\n",
    "stack.append(6)\n",
    "print(stack)"
   ]
  },
  {
   "cell_type": "code",
   "execution_count": 45,
   "metadata": {},
   "outputs": [
    {
     "name": "stdout",
     "output_type": "stream",
     "text": [
      "[3, 4, 5, 6]\n"
     ]
    },
    {
     "data": {
      "text/plain": [
       "6"
      ]
     },
     "execution_count": 45,
     "metadata": {},
     "output_type": "execute_result"
    }
   ],
   "source": [
    "stack = [3, 4, 5]\n",
    "stack.append(6)\n",
    "print(stack)\n",
    "stack.pop()"
   ]
  },
  {
   "cell_type": "markdown",
   "metadata": {},
   "source": [
    "#### Byte Arrays\n",
    "we are skipping this for now"
   ]
  },
  {
   "cell_type": "markdown",
   "metadata": {},
   "source": [
    "# Mappings\n",
    "\n",
    "Mappings represent finite sets of objects indexed by arbitrary index sets. The subscript notation a[k] selects the item indexed by k from the mapping a; this can be used in expressions and as the target of assignments or del statements. The built-in function len() returns the number of items in a mapping.\n",
    "\n",
    "There is currently a single intrinsic mapping type:\n",
    "\n",
    "## Dictionaries \n",
    "\n",
    "These represent finite sets of objects indexed by nearly arbitrary values. The only types of values not acceptable as keys are values containing lists or dictionaries or other mutable types that are compared by value rather than by object identity.\n",
    "\n",
    "Dictionaries are mutable; they can be created by the {...} notation (see section Dictionary displays)."
   ]
  },
  {
   "cell_type": "code",
   "execution_count": 47,
   "metadata": {},
   "outputs": [
    {
     "name": "stdout",
     "output_type": "stream",
     "text": [
      "{'value1': 1.6, 'value2': 10, 'name': 'John Doe'}\n",
      "{'value1': 1.6, 'value2': 100, 'name': 'John Doe'}\n",
      "equal: False\n",
      "length: 3\n"
     ]
    }
   ],
   "source": [
    "#Initialization\n",
    "dict1 = {'value1': 1.6, 'value2': 10, 'name': 'John Doe'}\n",
    "dict2 = dict(value1=1.6, value2=100, name='John Doe')\n",
    "\n",
    "print(dict1)\n",
    "print(dict2)\n",
    "\n",
    "print('equal: {}'.format(dict1 == dict2))\n",
    "print('length: {}'.format(len(dict1)))"
   ]
  },
  {
   "cell_type": "code",
   "execution_count": 48,
   "metadata": {},
   "outputs": [
    {
     "name": "stdout",
     "output_type": "stream",
     "text": [
      "keys: dict_keys(['value1', 'value2', 'name'])\n",
      "values: dict_values([1.6, 10, 'John Doe'])\n",
      "items: dict_items([('value1', 1.6), ('value2', 10), ('name', 'John Doe')])\n"
     ]
    }
   ],
   "source": [
    "#Listing all keys, values and items\n",
    "print('keys: {}'.format(dict1.keys()))\n",
    "print('values: {}'.format(dict1.values()))\n",
    "print('items: {}'.format(dict1.items()))"
   ]
  },
  {
   "cell_type": "code",
   "execution_count": null,
   "metadata": {},
   "outputs": [],
   "source": [
    "#Accessing Values\n",
    "my_dict = {}\n",
    "my_dict['key1'] = 'value1'\n",
    "my_dict['key2'] = 99\n",
    "my_dict['key1'] = 'new value'  # overriding existing value\n",
    "print(my_dict)\n",
    "print('value of key1: {}'.format(my_dict['key1']))"
   ]
  },
  {
   "cell_type": "code",
   "execution_count": null,
   "metadata": {},
   "outputs": [],
   "source": [
    "#Deleting a Value\n",
    "my_dict = {'key1': 'value1', 'key2': 99, 'keyX': 'valueX'}\n",
    "del my_dict['key1']\n",
    "print(my_dict)\n",
    "# what happens when the key doesn't exist"
   ]
  },
  {
   "cell_type": "code",
   "execution_count": null,
   "metadata": {},
   "outputs": [],
   "source": [
    "# Usually better to make sure that the key exists (see also pop() and popitem())\n",
    "key_to_delete = 'my_key'\n",
    "if key_to_delete in my_dict:\n",
    "    del my_dict[key_to_delete]\n",
    "print(my_dict)\n",
    "# We'll look into the 'in' operator next class    "
   ]
  },
  {
   "cell_type": "markdown",
   "metadata": {},
   "source": [
    "# Set types\n",
    "These represent **unordered**, finite sets of **unique**, **immutable** objects. As such, they cannot be indexed by any subscript. For set elements, the same immutability rules apply as for **dictionary keys**. Note that numeric types obey the normal rules for numeric comparison: if two numbers compare equal (e.g., 1 and 1.0), only one of them can be contained in a set."
   ]
  },
  {
   "cell_type": "code",
   "execution_count": null,
   "metadata": {
    "scrolled": true
   },
   "outputs": [],
   "source": [
    "x = set(\"A Python Tutorial\")\n",
    "print (x)"
   ]
  },
  {
   "cell_type": "code",
   "execution_count": null,
   "metadata": {
    "scrolled": true
   },
   "outputs": [],
   "source": [
    "x = set([\"Perl\", \"Python\", \"Java\"])\n",
    "print (x)"
   ]
  },
  {
   "cell_type": "code",
   "execution_count": null,
   "metadata": {},
   "outputs": [],
   "source": [
    "# All immutable objects are allowed (Tuples are immutable)\n",
    "cities = {(\"Python\",\"Perl\"), (\"Paris\", \"Berlin\", \"London\")}\n",
    "print (cities)"
   ]
  },
  {
   "cell_type": "code",
   "execution_count": null,
   "metadata": {},
   "outputs": [],
   "source": [
    "#What happens now??\n",
    "cities = set(([\"Python\",\"Perl\"], [\"Paris\", \"Berlin\", \"London\"]))"
   ]
  },
  {
   "cell_type": "code",
   "execution_count": null,
   "metadata": {},
   "outputs": [],
   "source": [
    "#Sets vs frozen sets (Sets are mutable, frozen sets are not)\n",
    "cities = set(['Delhi', 'Chennai', 'Hyderabad'])\n",
    "cities.add('Mumbai')\n",
    "print(cities)"
   ]
  },
  {
   "cell_type": "code",
   "execution_count": null,
   "metadata": {
    "scrolled": true
   },
   "outputs": [],
   "source": [
    "# See what happens now?\n",
    "cities = frozenset(['Delhi', 'Chennai', 'Hyderabad'])\n",
    "cities.add('Mumbai')\n",
    "print(cities)"
   ]
  },
  {
   "cell_type": "code",
   "execution_count": null,
   "metadata": {},
   "outputs": [],
   "source": [
    "x = {\"a\",\"b\",\"c\",\"d\",\"e\"}\n",
    "y = {\"b\",\"c\"}\n",
    "z = {\"c\",\"d\"}\n",
    "print (\"x - y =\",x.difference(y))\n",
    "print (\"x - y - z =\",x.difference(y).difference(z))"
   ]
  },
  {
   "cell_type": "code",
   "execution_count": null,
   "metadata": {
    "scrolled": true
   },
   "outputs": [],
   "source": [
    "# What happens if we try to remove\n",
    "x.remove('k')"
   ]
  },
  {
   "cell_type": "code",
   "execution_count": null,
   "metadata": {},
   "outputs": [],
   "source": [
    "x.discard('k')"
   ]
  },
  {
   "cell_type": "code",
   "execution_count": null,
   "metadata": {},
   "outputs": [],
   "source": [
    "x.remove('a')\n",
    "x.discard('b')\n",
    "print(x)"
   ]
  },
  {
   "cell_type": "markdown",
   "metadata": {},
   "source": [
    "# Queues\n",
    "To implement a queue, use **collections.deque** which was designed to have fast appends and pops from both ends"
   ]
  },
  {
   "cell_type": "code",
   "execution_count": 49,
   "metadata": {},
   "outputs": [
    {
     "name": "stdout",
     "output_type": "stream",
     "text": [
      "deque(['Eric', 'John', 'Michael', 'Terry', 'Graham'])\n"
     ]
    }
   ],
   "source": [
    "from collections import deque\n",
    "queue = deque([\"Eric\", \"John\", \"Michael\"])\n",
    "queue.append(\"Terry\")           # Terry arrives\n",
    "queue.append(\"Graham\")          # Graham arrives\n",
    "print(queue)"
   ]
  },
  {
   "cell_type": "code",
   "execution_count": null,
   "metadata": {},
   "outputs": [],
   "source": [
    "print(\"popped: {}\".format(queue.popleft()))                 # The first to arrive now leaves\n",
    "print(queue)"
   ]
  },
  {
   "cell_type": "code",
   "execution_count": null,
   "metadata": {
    "scrolled": false
   },
   "outputs": [],
   "source": [
    "print(\"popped: {}\".format(queue.pop()))                 \n",
    "print(queue)"
   ]
  },
  {
   "cell_type": "markdown",
   "metadata": {},
   "source": [
    "# Conditionals\n",
    "\n",
    "<h2>Python Comparison Operators</h2>\n",
    "\n",
    "<p>Comparison operators are used to compare two values:</p>\n",
    "\n",
    "<table class=\"w3-table-all notranslate\">\n",
    "<tr>\n",
    "<th style=\"width:25%\">Operator</th>\n",
    "<th style=\"width:35%\">Name</th>\n",
    "<th style=\"width:30%\">Example</th>\n",
    "</tr>\n",
    "<tr>\n",
    "<td>==</td>\n",
    "<td>Equal</td>\n",
    "<td>x == y</td>\n",
    "</tr>\n",
    "<tr>\n",
    "<td>!=</td>\n",
    "<td>Not equal</td>\n",
    "<td>x != y</td>\n",
    "</tr>\n",
    "<tr>\n",
    "<td>&gt;</td>\n",
    "<td>Greater than</td>\n",
    "<td>x &gt; y</td>\n",
    "</tr>\n",
    "<tr>\n",
    "<td>&lt;</td>\n",
    "<td>Less than</td>\n",
    "<td>x &lt; y</td>\n",
    "</tr>\n",
    "  <tr>\n",
    "<td>&gt;=</td>\n",
    "<td>Greater than or equal to</td>\n",
    "<td>x &gt;= y</td>\n",
    "  </tr>\n",
    "<tr>\n",
    "<td>&lt;=</td>\n",
    "<td>Less than or equal to</td>\n",
    "<td>x &lt;= y</td>\n",
    "</tr>\n",
    "</table>"
   ]
  },
  {
   "cell_type": "code",
   "execution_count": 2,
   "metadata": {},
   "outputs": [
    {
     "name": "stdout",
     "output_type": "stream",
     "text": [
      "1 == 0: False\n",
      "1 != 0: True\n",
      "1 > 0: True\n",
      "1 > 1: False\n",
      "1 < 0: False\n",
      "1 < 1: False\n",
      "1 >= 0: True\n",
      "1 >= 1: True\n",
      "1 <= 0: False\n",
      "1 <= 1: True\n"
     ]
    }
   ],
   "source": [
    "print('1 == 0: {}'.format(1 == 0))\n",
    "print('1 != 0: {}'.format(1 != 0))\n",
    "print('1 > 0: {}'.format(1 > 0))\n",
    "print('1 > 1: {}'.format(1 > 1))\n",
    "print('1 < 0: {}'.format(1 < 0))\n",
    "print('1 < 1: {}'.format(1 < 1))\n",
    "print('1 >= 0: {}'.format(1 >= 0))\n",
    "print('1 >= 1: {}'.format(1 >= 1))\n",
    "print('1 <= 0: {}'.format(1 <= 0))\n",
    "print('1 <= 1: {}'.format(1 <= 1))"
   ]
  },
  {
   "cell_type": "markdown",
   "metadata": {},
   "source": [
    "<h2>Python Logical Operators</h2>\n",
    "\n",
    "<p>Logical operators are used to combine conditional statements:</p>\n",
    "\n",
    "<table class=\"w3-table-all notranslate\">\n",
    "<tr>\n",
    "<th style=\"width:25%\">Operator</th>\n",
    "<th style=\"width:35%\">Description</th>\n",
    "<th style=\"width:30%\">Example</th>\n",
    "</tr>\n",
    "<tr>\n",
    "<td>and&nbsp;</td>\n",
    "<td>Returns True if both statements are true</td>\n",
    "<td>x &lt; 5 and&nbsp; x &lt; 10</td>\n",
    "</tr>\n",
    "<tr>\n",
    "<td>or</td>\n",
    "<td>Returns True if one of the statements is true</td>\n",
    "<td>x &lt; 5 or x &lt; 4</td>\n",
    "</tr>\n",
    "<tr>\n",
    "<td>not</td>\n",
    "<td>Reverse the result, returns False if the result is true</td>\n",
    "<td>not(x &lt; 5 and x &lt; 10)</td>\n",
    "</tr>\n",
    "</table>"
   ]
  },
  {
   "cell_type": "code",
   "execution_count": 3,
   "metadata": {},
   "outputs": [
    {
     "name": "stdout",
     "output_type": "stream",
     "text": [
      "True and False is: False\n",
      "True and 3 is: 3\n",
      "empty and 3 is: []\n"
     ]
    }
   ],
   "source": [
    "i_am_true = True\n",
    "i_am_false = False\n",
    "i_am_empty = []\n",
    "i_am_3 = 3\n",
    "print('True and False is: {}'.format(i_am_true and i_am_false))\n",
    "print('True and 3 is: {}'.format(i_am_true and i_am_3))\n",
    "print('empty and 3 is: {}'.format(i_am_empty and i_am_3)) #Short circuiting"
   ]
  },
  {
   "cell_type": "code",
   "execution_count": null,
   "metadata": {},
   "outputs": [],
   "source": [
    "print('True or False is: {}'.format(i_am_true or i_am_false))\n",
    "print('True or 3 is: {}'.format(i_am_true or i_am_3))\n",
    "print('empty or 3 is: {}'.format(i_am_empty or i_am_3))"
   ]
  },
  {
   "cell_type": "code",
   "execution_count": 4,
   "metadata": {},
   "outputs": [
    {
     "name": "stdout",
     "output_type": "stream",
     "text": [
      "5.0\n"
     ]
    }
   ],
   "source": [
    "my_int_1 = 0\n",
    "my_int_2 = 10\n",
    "x = my_int_2 / (my_int_1 or 2)\n",
    "print(x)"
   ]
  },
  {
   "cell_type": "code",
   "execution_count": 5,
   "metadata": {},
   "outputs": [
    {
     "name": "stdout",
     "output_type": "stream",
     "text": [
      " I am not true :False\n",
      " I am not false :True\n",
      " I am not empty :True\n",
      " I am not 3 :False\n"
     ]
    }
   ],
   "source": [
    "print(\" I am not true :{}\".format(not i_am_true))\n",
    "print(\" I am not false :{}\".format(not i_am_false))\n",
    "print(\" I am not empty :{}\".format(not i_am_empty))\n",
    "print(\" I am not 3 :{}\".format(not i_am_3))"
   ]
  },
  {
   "cell_type": "markdown",
   "metadata": {},
   "source": [
    "<h2>Python Membership Operators</h2>\n",
    "\n",
    "<p>Membership operators are used to test if a sequence is presented in an object:</p>\n",
    "\n",
    "<table class=\"w3-table-all notranslate\">\n",
    "<tr>\n",
    "<th style=\"width:25%\">Operator</th>\n",
    "<th style=\"width:35%\">Description</th>\n",
    "<th style=\"width:30%\">Example</th>\n",
    "</tr>\n",
    "<tr>\n",
    "<td>in&nbsp;</td>\n",
    "<td>Returns True if a sequence with the specified value is present in the object</td>\n",
    "<td>x in y</td>\n",
    "</tr>\n",
    "<tr>\n",
    "<td>not in</td>\n",
    "<td>Returns True if a sequence with the specified value is not present in the \n",
    "object</td>\n",
    "<td>x not in y</td>\n",
    "</tr>\n",
    "</table>"
   ]
  },
  {
   "cell_type": "code",
   "execution_count": 6,
   "metadata": {},
   "outputs": [
    {
     "name": "stdout",
     "output_type": "stream",
     "text": [
      "is x in xkcd: True\n",
      "is x in xkcd: True\n",
      "is x in xkcd: True\n",
      "is x in xkcd: True\n",
      "is x in xkcd: True\n"
     ]
    }
   ],
   "source": [
    "print('is x in xkcd: {}'.format('x' in 'xkcd'))\n",
    "print('is x in xkcd: {}'.format('x' in ('x',1,True)))\n",
    "print('is x in xkcd: {}'.format('x' in {'x',1,True}))\n",
    "print('is x in xkcd: {}'.format('x' in {'x':1,'y':2,'z':3}))\n",
    "print('is x in xkcd: {}'.format(1 in {'x':1,'y':2,'z':3}.values()))"
   ]
  },
  {
   "cell_type": "markdown",
   "metadata": {},
   "source": [
    "## IF ELIF ELSE statements\n",
    "has the following structure, but both 'else' and 'elif' are optional\n",
    "\n",
    "`if boolean-expression:\n",
    "  statements\n",
    "elif boolean-expression:\n",
    "  statements\n",
    "else:\n",
    "  statements`"
   ]
  },
  {
   "cell_type": "code",
   "execution_count": 7,
   "metadata": {},
   "outputs": [
    {
     "name": "stdout",
     "output_type": "stream",
     "text": [
      "a is greater than b\n"
     ]
    }
   ],
   "source": [
    "a = 200\n",
    "b = 33\n",
    "if b > a:\n",
    "    print(\"b is greater than a\")\n",
    "elif a == b:\n",
    "    print(\"a and b are equal\")\n",
    "else:\n",
    "    print(\"a is greater than b\")"
   ]
  },
  {
   "cell_type": "markdown",
   "metadata": {},
   "source": [
    "# LOOPS"
   ]
  },
  {
   "cell_type": "code",
   "execution_count": 8,
   "metadata": {},
   "outputs": [
    {
     "name": "stdout",
     "output_type": "stream",
     "text": [
      "0\n",
      "1\n",
      "2\n",
      "3\n",
      "4\n"
     ]
    }
   ],
   "source": [
    "my_list = [0,1, 2, 3, 4]\n",
    "for item in my_list:\n",
    "    print(item)"
   ]
  },
  {
   "cell_type": "code",
   "execution_count": null,
   "metadata": {},
   "outputs": [],
   "source": [
    "for item in range(5):\n",
    "    print(item)"
   ]
  },
  {
   "cell_type": "code",
   "execution_count": null,
   "metadata": {
    "scrolled": true
   },
   "outputs": [],
   "source": [
    "for item in range(4,10,2):\n",
    "    print(item)"
   ]
  },
  {
   "cell_type": "code",
   "execution_count": 9,
   "metadata": {},
   "outputs": [
    {
     "name": "stdout",
     "output_type": "stream",
     "text": [
      "0\n",
      "1\n"
     ]
    }
   ],
   "source": [
    "for item in my_list:\n",
    "    if item == 2:\n",
    "        break\n",
    "    print(item)"
   ]
  },
  {
   "cell_type": "code",
   "execution_count": 10,
   "metadata": {},
   "outputs": [
    {
     "name": "stdout",
     "output_type": "stream",
     "text": [
      "0\n",
      "1\n",
      "3\n",
      "4\n"
     ]
    }
   ],
   "source": [
    "for item in my_list:\n",
    "    if item == 2:\n",
    "        continue\n",
    "    print(item)"
   ]
  },
  {
   "cell_type": "code",
   "execution_count": 11,
   "metadata": {
    "scrolled": true
   },
   "outputs": [
    {
     "name": "stdout",
     "output_type": "stream",
     "text": [
      "idx: 0, value: 0\n",
      "idx: 1, value: 1\n",
      "idx: 2, value: 2\n",
      "idx: 3, value: 3\n",
      "idx: 4, value: 4\n"
     ]
    }
   ],
   "source": [
    "for idx, val in enumerate(my_list):\n",
    "    print('idx: {}, value: {}'.format(idx, val))"
   ]
  },
  {
   "cell_type": "code",
   "execution_count": 12,
   "metadata": {
    "scrolled": true
   },
   "outputs": [
    {
     "name": "stdout",
     "output_type": "stream",
     "text": [
      "hacker\n",
      "age\n",
      "name\n"
     ]
    }
   ],
   "source": [
    "my_dict = {'hacker': True, 'age': 72, 'name': 'John Doe'}\n",
    "for val in my_dict:\n",
    "    print(val)"
   ]
  },
  {
   "cell_type": "code",
   "execution_count": 13,
   "metadata": {},
   "outputs": [
    {
     "name": "stdout",
     "output_type": "stream",
     "text": [
      "hacker=True\n",
      "age=72\n",
      "name=John Doe\n"
     ]
    }
   ],
   "source": [
    "for key, val in my_dict.items():\n",
    "    print('{}={}'.format(key, val))"
   ]
  },
  {
   "cell_type": "markdown",
   "metadata": {},
   "source": [
    "# Functions"
   ]
  },
  {
   "cell_type": "code",
   "execution_count": null,
   "metadata": {},
   "outputs": [],
   "source": [
    "def my_first_function():\n",
    "    print('Hello world!')\n",
    "\n",
    "print('type: {}'.format(my_first_function))\n",
    "#calling my function\n",
    "my_first_function()"
   ]
  },
  {
   "cell_type": "code",
   "execution_count": 14,
   "metadata": {},
   "outputs": [
    {
     "name": "stdout",
     "output_type": "stream",
     "text": [
      "Hello world! Jack and Jill\n"
     ]
    }
   ],
   "source": [
    "def my_first_function_with_params(param1, param2):\n",
    "    print('Hello world! {} and {}'.format(param1, param2))\n",
    "my_first_function_with_params(\"Jack\",\"Jill\")"
   ]
  },
  {
   "cell_type": "code",
   "execution_count": 15,
   "metadata": {},
   "outputs": [
    {
     "name": "stdout",
     "output_type": "stream",
     "text": [
      "Hello world! Jack and Jill\n",
      "result: None\n"
     ]
    }
   ],
   "source": [
    "my_func_result = my_first_function_with_params(\"Jack\",\"Jill\")\n",
    "print(\"result:\", my_func_result)"
   ]
  },
  {
   "cell_type": "code",
   "execution_count": 16,
   "metadata": {},
   "outputs": [],
   "source": [
    "def my_first_function_which_returns(param1, param2):\n",
    "    return 'Hello world! {} and {}'.format(param1, param2)"
   ]
  },
  {
   "cell_type": "code",
   "execution_count": 17,
   "metadata": {},
   "outputs": [
    {
     "name": "stdout",
     "output_type": "stream",
     "text": [
      "result: Hello world! Jack and Jill\n"
     ]
    }
   ],
   "source": [
    "my_func_result = my_first_function_which_returns(\"Jack\",\"Jill\")\n",
    "print(\"result:\", my_func_result)"
   ]
  },
  {
   "cell_type": "code",
   "execution_count": 18,
   "metadata": {},
   "outputs": [
    {
     "data": {
      "text/plain": [
       "'Hello world! Jack and Jill'"
      ]
     },
     "execution_count": 18,
     "metadata": {},
     "output_type": "execute_result"
    }
   ],
   "source": [
    "my_first_function_which_returns(param2=\"Jill\",param1=\"Jack\")"
   ]
  },
  {
   "cell_type": "code",
   "execution_count": 19,
   "metadata": {},
   "outputs": [],
   "source": [
    "def my_second_function_which_returns(param1, param2, param3):\n",
    "    return 'Hello world! {} and {} and {}'.format(param1, param2, param3)"
   ]
  },
  {
   "cell_type": "code",
   "execution_count": 20,
   "metadata": {},
   "outputs": [
    {
     "data": {
      "text/plain": [
       "'Hello world! Jack and Jill and Mark'"
      ]
     },
     "execution_count": 20,
     "metadata": {},
     "output_type": "execute_result"
    }
   ],
   "source": [
    "my_second_function_which_returns(\"Jack\",param3=\"Mark\",param2=\"Jill\")"
   ]
  },
  {
   "cell_type": "code",
   "execution_count": 21,
   "metadata": {},
   "outputs": [
    {
     "name": "stdout",
     "output_type": "stream",
     "text": [
      "{'name': 'John Doe', 'age': 82, 'salary': 300}\n",
      "{'name': 'Lisa Doe', 'age': 22, 'salary': 10000, 'job': 'hacker'}\n"
     ]
    }
   ],
   "source": [
    "#Default arguments\n",
    "def create_person_info(name, age, job=None, salary=300):\n",
    "    info = {'name': name, 'age': age, 'salary': salary}\n",
    "    \n",
    "    # Add 'job' key only if it's provided as parameter\n",
    "    if job:  \n",
    "        info.update(dict(job=job))\n",
    "        \n",
    "    return info\n",
    "\n",
    "person1 = create_person_info('John Doe', 82)  # use default values for job and salary\n",
    "person2 = create_person_info('Lisa Doe', 22, 'hacker', 10000)\n",
    "print(person1)\n",
    "print(person2)"
   ]
  },
  {
   "cell_type": "code",
   "execution_count": 60,
   "metadata": {},
   "outputs": [],
   "source": [
    "def append_if_multiple_of_five(number, magical_list=[]):\n",
    "    if number % 5 == 0:\n",
    "        magical_list.append(number)\n",
    "    return magical_list"
   ]
  },
  {
   "cell_type": "code",
   "execution_count": 57,
   "metadata": {},
   "outputs": [
    {
     "ename": "NameError",
     "evalue": "name 'append_if_multiple_of_five' is not defined",
     "output_type": "error",
     "traceback": [
      "\u001b[1;31m---------------------------------------------------------------------------\u001b[0m",
      "\u001b[1;31mNameError\u001b[0m                                 Traceback (most recent call last)",
      "\u001b[1;32m<ipython-input-57-067e526b7fd5>\u001b[0m in \u001b[0;36m<module>\u001b[1;34m\u001b[0m\n\u001b[1;32m----> 1\u001b[1;33m \u001b[0mprint\u001b[0m\u001b[1;33m(\u001b[0m\u001b[0mappend_if_multiple_of_five\u001b[0m\u001b[1;33m(\u001b[0m\u001b[1;36m100\u001b[0m\u001b[1;33m)\u001b[0m\u001b[1;33m)\u001b[0m\u001b[1;33m\u001b[0m\u001b[1;33m\u001b[0m\u001b[0m\n\u001b[0m\u001b[0;32m      2\u001b[0m \u001b[0mprint\u001b[0m\u001b[1;33m(\u001b[0m\u001b[0mappend_if_multiple_of_five\u001b[0m\u001b[1;33m(\u001b[0m\u001b[1;36m105\u001b[0m\u001b[1;33m)\u001b[0m\u001b[1;33m)\u001b[0m\u001b[1;33m\u001b[0m\u001b[1;33m\u001b[0m\u001b[0m\n\u001b[0;32m      3\u001b[0m \u001b[0mprint\u001b[0m\u001b[1;33m(\u001b[0m\u001b[0mappend_if_multiple_of_five\u001b[0m\u001b[1;33m(\u001b[0m\u001b[1;36m123\u001b[0m\u001b[1;33m)\u001b[0m\u001b[1;33m)\u001b[0m\u001b[1;33m\u001b[0m\u001b[1;33m\u001b[0m\u001b[0m\n\u001b[0;32m      4\u001b[0m \u001b[0mprint\u001b[0m\u001b[1;33m(\u001b[0m\u001b[0mappend_if_multiple_of_five\u001b[0m\u001b[1;33m(\u001b[0m\u001b[1;36m123\u001b[0m\u001b[1;33m,\u001b[0m \u001b[1;33m[\u001b[0m\u001b[1;36m1\u001b[0m\u001b[1;33m,\u001b[0m\u001b[1;36m2\u001b[0m\u001b[1;33m,\u001b[0m\u001b[1;36m3\u001b[0m\u001b[1;33m]\u001b[0m\u001b[1;33m)\u001b[0m\u001b[1;33m)\u001b[0m\u001b[1;33m\u001b[0m\u001b[1;33m\u001b[0m\u001b[0m\n\u001b[0;32m      5\u001b[0m \u001b[0mprint\u001b[0m\u001b[1;33m(\u001b[0m\u001b[0mappend_if_multiple_of_five\u001b[0m\u001b[1;33m(\u001b[0m\u001b[1;36m123\u001b[0m\u001b[1;33m)\u001b[0m\u001b[1;33m)\u001b[0m\u001b[1;33m\u001b[0m\u001b[1;33m\u001b[0m\u001b[0m\n",
      "\u001b[1;31mNameError\u001b[0m: name 'append_if_multiple_of_five' is not defined"
     ]
    }
   ],
   "source": [
    "print(append_if_multiple_of_five(100))\n",
    "print(append_if_multiple_of_five(105))\n",
    "print(append_if_multiple_of_five(123))\n",
    "print(append_if_multiple_of_five(123, [1,2,3]))\n",
    "print(append_if_multiple_of_five(123))"
   ]
  },
  {
   "cell_type": "markdown",
   "metadata": {},
   "source": [
    "# Reading and Writing from files\n",
    "\n",
    "open() returns a file object, and is most commonly used with two arguments: open(filename, mode)."
   ]
  },
  {
   "cell_type": "code",
   "execution_count": null,
   "metadata": {},
   "outputs": [],
   "source": [
    "f = open('testfile.txt', 'w')\n",
    "f.write(\"I am writing this\")\n",
    "f.close()"
   ]
  },
  {
   "cell_type": "markdown",
   "metadata": {},
   "source": [
    "The first argument is a string containing the filename. The second argument is another string containing a few characters describing the way in which the file will be used (called mode). There are four different modes\n",
    "\n",
    "* \"r\" - Read - Default value. Opens a file for reading, error if the file does not exist\n",
    "\n",
    "* \"a\" - Append - Opens a file for appending, creates the file if it does not exist\n",
    "\n",
    "* \"w\" - Write - Opens a file for writing, creates the file if it does not exist\n",
    "\n",
    "* \"x\" - Create - Creates the specified file, returns an error if the file exists\n",
    "\n",
    "In addition you can specify if the file should be handled as binary or text mode\n",
    "\n",
    "* \"t\" - Text - Default value. Text mode\n",
    "\n",
    "* \"b\" - Binary - Binary mode (e.g. images)"
   ]
  },
  {
   "cell_type": "code",
   "execution_count": null,
   "metadata": {},
   "outputs": [],
   "source": [
    "f = open(\"testfile.txt\", \"r\")\n",
    "print(f.read())\n",
    "f.close()"
   ]
  },
  {
   "cell_type": "code",
   "execution_count": null,
   "metadata": {
    "scrolled": true
   },
   "outputs": [],
   "source": [
    "f = open(\"testfile.txt\", \"r\")\n",
    "print(f.read(1))\n",
    "f.close()"
   ]
  },
  {
   "cell_type": "code",
   "execution_count": null,
   "metadata": {
    "scrolled": true
   },
   "outputs": [],
   "source": [
    "f = open(\"testfile.txt\", \"r\")\n",
    "print(f.readline())\n",
    "f.close()"
   ]
  },
  {
   "cell_type": "code",
   "execution_count": null,
   "metadata": {},
   "outputs": [],
   "source": [
    "# lets append one more line\n",
    "f = open(\"testfile.txt\", \"a\")\n",
    "f.write(\"\\n\")\n",
    "f.write(\"one more line! fun!\")\n",
    "f.close()"
   ]
  },
  {
   "cell_type": "code",
   "execution_count": null,
   "metadata": {
    "scrolled": true
   },
   "outputs": [],
   "source": [
    "f = open(\"testfile.txt\", \"r\")\n",
    "for x in f:\n",
    "    print (\"line: \", x)\n",
    "f.close()"
   ]
  },
  {
   "cell_type": "markdown",
   "metadata": {},
   "source": [
    "## The with statement\n",
    "The with statement is used to wrap the execution of a block with methods defined by a context manager. For sake of simplicity, think of context managers as utilities which take care of repetitive boiler plate code. For example: in file handling you always need to close the file (even during exceptions)."
   ]
  },
  {
   "cell_type": "code",
   "execution_count": null,
   "metadata": {},
   "outputs": [],
   "source": [
    "with open(\"testfile.txt\", \"r\") as f:\n",
    "    for x in f:\n",
    "        print (\"line: \", x)"
   ]
  },
  {
   "cell_type": "code",
   "execution_count": null,
   "metadata": {},
   "outputs": [],
   "source": [
    "with open(\"testfile.txt\", \"w\") as f:\n",
    "    f.write(\"I am writing this\")\n",
    "    f.write(\"\\n\")\n",
    "    f.write(\"one more line! fun!\")"
   ]
  },
  {
   "cell_type": "code",
   "execution_count": null,
   "metadata": {
    "scrolled": true
   },
   "outputs": [],
   "source": [
    "with open(\"testfile.txt\", \"w+\")as fo:\n",
    "    str = fo.read(3)\n",
    "    print(\"Read String is : \", str)\n",
    "    position = fo.tell()\n",
    "    print (\"Current file position : \", position)\n",
    "    position = fo.seek(0, 0)\n",
    "    str = fo.read(3);\n",
    "    print(\"Again read String is : \", str)\n",
    "    fo.write(\" stuff \")\n",
    "    fo.seek(0, 0)\n",
    "    for x in fo:\n",
    "        print (\"line: \", x)"
   ]
  },
  {
   "cell_type": "code",
   "execution_count": null,
   "metadata": {},
   "outputs": [],
   "source": [
    "def read_and_append(filename):\n",
    "    res = \"Error opening and reading from file:{}\".format(filename)\n",
    "    with open(filename, \"r\") as file:\n",
    "        fstr = file.read().split(',')\n",
    "        if fstr[0] == \"upper\":\n",
    "            res = fstr[1].upper()\n",
    "        elif fstr[0] == \"lower\":\n",
    "            res = fstr[1].lower()\n",
    "        else:\n",
    "            res = \"unsupported operation\"\n",
    "    with open(filename, \"a\") as file:\n",
    "        file.write(\"\\n{}\".format(res))"
   ]
  },
  {
   "cell_type": "code",
   "execution_count": null,
   "metadata": {},
   "outputs": [],
   "source": [
    "read_and_append(\"sample.csv\")"
   ]
  },
  {
   "cell_type": "code",
   "execution_count": null,
   "metadata": {},
   "outputs": [],
   "source": [
    "import os\n",
    "def read_from_dir(directory):\n",
    "    for file in os.listdir(directory):\n",
    "        if file.endswith(\".csv\"):\n",
    "            read_and_append(file)"
   ]
  },
  {
   "cell_type": "code",
   "execution_count": null,
   "metadata": {},
   "outputs": [],
   "source": [
    "read_from_dir(\".\")"
   ]
  },
  {
   "cell_type": "markdown",
   "metadata": {},
   "source": [
    "**avoid! reading and writing at the same time.. unless there is no way out**"
   ]
  },
  {
   "cell_type": "markdown",
   "metadata": {},
   "source": [
    "## Next class Topics¶\n",
    "1. Modules and Packages\n",
    "3. Any other doubts that you may have\n",
    "\n",
    "_we will do exception handling and Classes later, when we look into OOP_\n",
    "\n",
    "**--End of Python refresher--**"
   ]
  },
  {
   "cell_type": "code",
   "execution_count": null,
   "metadata": {},
   "outputs": [],
   "source": []
  }
 ],
 "metadata": {
  "kernelspec": {
   "display_name": "Python 3",
   "language": "python",
   "name": "python3"
  },
  "language_info": {
   "codemirror_mode": {
    "name": "ipython",
    "version": 3
   },
   "file_extension": ".py",
   "mimetype": "text/x-python",
   "name": "python",
   "nbconvert_exporter": "python",
   "pygments_lexer": "ipython3",
   "version": "3.8.1"
  }
 },
 "nbformat": 4,
 "nbformat_minor": 2
}
